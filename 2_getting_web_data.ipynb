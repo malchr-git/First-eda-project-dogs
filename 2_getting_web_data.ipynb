{
 "cells": [
  {
   "cell_type": "markdown",
   "metadata": {},
   "source": [
    "# Webscraping\n",
    "\n",
    "In this notebook I will scrape data from https://www.kaggle.com/paultimothymooney/best-in-show-data-about-dogs\n",
    "\n",
    "The website contains info about different dog breeds' popularity rank, hypoallergenic, intelligence rank, temperament, and price range.\n",
    "\n",
    "Let's get started! \n",
    "\n",
    "![Golden with glasses](https://media.giphy.com/media/SsCXHjL5vFW5mlcKWb/giphy.gif)"
   ]
  },
  {
   "cell_type": "markdown",
   "metadata": {},
   "source": [
    "First let's import the libraries"
   ]
  },
  {
   "cell_type": "code",
   "execution_count": 1,
   "metadata": {},
   "outputs": [],
   "source": [
    "import pandas as pd\n",
    "import numpy as np\n",
    "import bs4\n",
    "import requests"
   ]
  },
  {
   "cell_type": "code",
   "execution_count": 2,
   "metadata": {},
   "outputs": [],
   "source": [
    "dogs_list = ['dog1.html', 'dog2.html', 'dog3.html', 'dog4.html', 'dog5.html']"
   ]
  },
  {
   "cell_type": "code",
   "execution_count": 3,
   "metadata": {},
   "outputs": [],
   "source": [
    "dogs_empty = []\n",
    "\n",
    "\n",
    "for file in dogs_list:\n",
    "    with open(file, 'r') as dogs:\n",
    "        dogs_empty.append(bs4.BeautifulSoup(dogs, 'html.parser'))"
   ]
  },
  {
   "cell_type": "code",
   "execution_count": 4,
   "metadata": {},
   "outputs": [
    {
     "data": {
      "text/plain": [
       "5"
      ]
     },
     "execution_count": 4,
     "metadata": {},
     "output_type": "execute_result"
    }
   ],
   "source": [
    "len(dogs_empty)"
   ]
  },
  {
   "cell_type": "code",
   "execution_count": 5,
   "metadata": {},
   "outputs": [
    {
     "name": "stdout",
     "output_type": "stream",
     "text": [
      "<title>All Dog Breeds - All Types of Dogs (373 Breeds)</title>\n",
      "<title>All Dog Breeds - All Types of Dogs (373 Breeds)</title>\n",
      "<title>All Dog Breeds - All Types of Dogs (373 Breeds)</title>\n",
      "<title>All Dog Breeds - All Types of Dogs (373 Breeds)</title>\n",
      "<title>All Dog Breeds - All Types of Dogs (373 Breeds)</title>\n"
     ]
    }
   ],
   "source": [
    "for file in dogs_empty:\n",
    "    print(file.title)"
   ]
  },
  {
   "cell_type": "code",
   "execution_count": 6,
   "metadata": {},
   "outputs": [],
   "source": [
    "#for i in dogs_empty:\n",
    "    #print(i.select(\"p\"))"
   ]
  },
  {
   "cell_type": "code",
   "execution_count": 7,
   "metadata": {},
   "outputs": [],
   "source": [
    "dogs_var = []\n",
    "\n",
    "for file in dogs_empty:\n",
    "    dogs_var.append(list(file.select(\"p\")))"
   ]
  },
  {
   "cell_type": "code",
   "execution_count": 8,
   "metadata": {},
   "outputs": [
    {
     "data": {
      "text/plain": [
       "5"
      ]
     },
     "execution_count": 8,
     "metadata": {},
     "output_type": "execute_result"
    }
   ],
   "source": [
    "len(dogs_var)"
   ]
  },
  {
   "cell_type": "code",
   "execution_count": 9,
   "metadata": {},
   "outputs": [
    {
     "name": "stdout",
     "output_type": "stream",
     "text": [
      "240\n",
      "238\n",
      "240\n",
      "240\n",
      "240\n"
     ]
    }
   ],
   "source": [
    "for i in dogs_var:\n",
    "    print(len(i))"
   ]
  },
  {
   "cell_type": "code",
   "execution_count": 10,
   "metadata": {},
   "outputs": [
    {
     "name": "stdout",
     "output_type": "stream",
     "text": [
      "<p><a href=\"https://www.dogbreedslist.info/all-dog-breeds/Boston-Terrier.html\" title=\"Boston Terrier - Price, Temperament, Life span\">Boston Terrier</a></p>\n",
      "<p><a href=\"https://www.dogbreedslist.info/all-dog-breeds/Havanese.html\" title=\"Havanese - Price, Temperament, Life span\">Havanese</a></p>\n",
      "<p><a href=\"https://www.dogbreedslist.info/all-dog-breeds/Bernese-Mountain-Dog.html\" title=\"Bernese Mountain Dog - Price, Temperament, Life span\">Bernese Mountain Dog</a></p>\n",
      "<p><a href=\"https://www.dogbreedslist.info/all-dog-breeds/Pomeranian.html\" title=\"Pomeranian - Price, Temperament, Life span\">Pomeranian</a></p>\n",
      "<p><a href=\"https://www.dogbreedslist.info/all-dog-breeds/Shetland-Sheepdog.html\" title=\"Shetland Sheepdog - Price, Temperament, Life span\">Shetland Sheepdog</a></p>\n",
      "<p><a href=\"https://www.dogbreedslist.info/all-dog-breeds/French-Brittany.html\" title=\"Brittany - Price, Temperament, Life span\">Brittany</a></p>\n",
      "<p><a href=\"https://www.dogbreedslist.info/all-dog-breeds/English-Springer-Spaniel.html\" title=\"English Springer Spaniel - Price, Temperament, Life span\">English Springer Spaniel</a></p>\n",
      "<p><a href=\"https://www.dogbreedslist.info/all-dog-breeds/American-Cocker-Spaniel.html\" title=\"American Cocker Spaniel - Price, Temperament, Life span\">American Cocker Spaniel</a></p>\n",
      "<p><a href=\"https://www.dogbreedslist.info/all-dog-breeds/Miniature-American-Shepherd.html\" title=\"Miniature American Shepherd - Price, Temperament, Life span\">Miniature American Shepherd</a></p>\n",
      "<p>#30</p>\n",
      "<p>#31</p>\n",
      "<p>#32</p>\n",
      "<p>#33</p>\n",
      "<p>#34</p>\n",
      "<p>#35</p>\n",
      "<p>#36</p>\n",
      "<p>#37</p>\n",
      "<p>#38</p>\n",
      "<p>#39</p>\n",
      "<p>#40</p>\n"
     ]
    },
    {
     "ename": "IndexError",
     "evalue": "list index out of range",
     "output_type": "error",
     "traceback": [
      "\u001b[0;31m---------------------------------------------------------------------------\u001b[0m",
      "\u001b[0;31mIndexError\u001b[0m                                Traceback (most recent call last)",
      "\u001b[0;32m<ipython-input-10-71d5febd4d61>\u001b[0m in \u001b[0;36m<module>\u001b[0;34m\u001b[0m\n\u001b[1;32m      3\u001b[0m \u001b[0;34m\u001b[0m\u001b[0m\n\u001b[1;32m      4\u001b[0m \u001b[0;32mfor\u001b[0m \u001b[0mi\u001b[0m \u001b[0;32min\u001b[0m \u001b[0mdogs_var\u001b[0m\u001b[0;34m[\u001b[0m\u001b[0;36m1\u001b[0m\u001b[0;34m]\u001b[0m\u001b[0;34m:\u001b[0m\u001b[0;34m\u001b[0m\u001b[0;34m\u001b[0m\u001b[0m\n\u001b[0;32m----> 5\u001b[0;31m     \u001b[0mprint\u001b[0m\u001b[0;34m(\u001b[0m\u001b[0mdogs_var\u001b[0m\u001b[0;34m[\u001b[0m\u001b[0;36m1\u001b[0m\u001b[0;34m]\u001b[0m\u001b[0;34m[\u001b[0m\u001b[0mnum\u001b[0m\u001b[0;34m]\u001b[0m\u001b[0;34m)\u001b[0m\u001b[0;34m\u001b[0m\u001b[0;34m\u001b[0m\u001b[0m\n\u001b[0m\u001b[1;32m      6\u001b[0m     \u001b[0mnum\u001b[0m \u001b[0;34m+=\u001b[0m \u001b[0;36m12\u001b[0m\u001b[0;34m\u001b[0m\u001b[0;34m\u001b[0m\u001b[0m\n",
      "\u001b[0;31mIndexError\u001b[0m: list index out of range"
     ]
    }
   ],
   "source": [
    "from pprint import pprint\n",
    "num = 0 \n",
    "\n",
    "for i in dogs_var[1]:\n",
    "    print(dogs_var[1][num])\n",
    "    num += 12"
   ]
  },
  {
   "cell_type": "code",
   "execution_count": 11,
   "metadata": {},
   "outputs": [
    {
     "name": "stdout",
     "output_type": "stream",
     "text": [
      "Boston Terrier\n",
      "Havanese\n",
      "Bernese Mountain Dog\n",
      "Pomeranian\n",
      "Shetland Sheepdog\n",
      "Brittany\n",
      "English Springer Spaniel\n",
      "American Cocker Spaniel\n",
      "Miniature American Shepherd\n",
      "Cane Corso\n",
      "Pug\n",
      "Mastiff\n",
      "Border Collie\n",
      "Vizsla\n",
      "Chihuahua\n",
      "Maltese\n",
      "Basset Hound\n",
      "Collie\n",
      "Weimaraner\n",
      "Newfoundland\n"
     ]
    }
   ],
   "source": [
    "for i in dogs_var[1]:\n",
    "    if i.find('a'):\n",
    "        \n",
    "    #if 'title' in i.get_text():\n",
    "        #print(i.get_text())\n",
    "        print(i.get_text())"
   ]
  },
  {
   "cell_type": "code",
   "execution_count": 12,
   "metadata": {},
   "outputs": [
    {
     "data": {
      "text/plain": [
       "['Labrador Retriever', 'German Shepherd', 'Golden Retriever', 'French Bulldog']"
      ]
     },
     "execution_count": 12,
     "metadata": {},
     "output_type": "execute_result"
    }
   ],
   "source": [
    "title = []\n",
    "\n",
    "for file in dogs_var:\n",
    "    for element in file:\n",
    "        if element.find('a'):\n",
    "            title.append(element.get_text())\n",
    "\n",
    "title[:4]"
   ]
  },
  {
   "cell_type": "code",
   "execution_count": 13,
   "metadata": {},
   "outputs": [
    {
     "data": {
      "text/plain": [
       "['Labrador Retriever', '#1', 'No']"
      ]
     },
     "execution_count": 13,
     "metadata": {},
     "output_type": "execute_result"
    }
   ],
   "source": [
    "data = []\n",
    "\n",
    "for file in dogs_var:\n",
    "    for element in file:\n",
    "        data.append(element.get_text())\n",
    "data[:3]"
   ]
  },
  {
   "cell_type": "code",
   "execution_count": 14,
   "metadata": {},
   "outputs": [
    {
     "data": {
      "text/plain": [
       "['Labrador Retriever',\n",
       " 'German Shepherd',\n",
       " 'Golden Retriever',\n",
       " 'French Bulldog',\n",
       " 'Bulldog',\n",
       " 'Poodle',\n",
       " 'Beagle',\n",
       " 'Rottweiler',\n",
       " 'German Shorthaired Pointer',\n",
       " 'Pembroke Welsh Corgi',\n",
       " 'Dachshund',\n",
       " 'Yorkshire Terrier']"
      ]
     },
     "execution_count": 14,
     "metadata": {},
     "output_type": "execute_result"
    }
   ],
   "source": [
    "title[:12]"
   ]
  },
  {
   "cell_type": "code",
   "execution_count": 15,
   "metadata": {},
   "outputs": [
    {
     "data": {
      "text/plain": [
       "120"
      ]
     },
     "execution_count": 15,
     "metadata": {},
     "output_type": "execute_result"
    }
   ],
   "source": [
    "data.index('Dachshund')"
   ]
  },
  {
   "cell_type": "code",
   "execution_count": 16,
   "metadata": {},
   "outputs": [
    {
     "data": {
      "text/plain": [
       "'Dachshund'"
      ]
     },
     "execution_count": 16,
     "metadata": {},
     "output_type": "execute_result"
    }
   ],
   "source": [
    "data[120]"
   ]
  },
  {
   "cell_type": "code",
   "execution_count": 17,
   "metadata": {},
   "outputs": [
    {
     "data": {
      "text/plain": [
       "24"
      ]
     },
     "execution_count": 17,
     "metadata": {},
     "output_type": "execute_result"
    }
   ],
   "source": [
    "data.index(title[2])"
   ]
  },
  {
   "cell_type": "code",
   "execution_count": 18,
   "metadata": {},
   "outputs": [],
   "source": [
    "data2 = []\n",
    "\n",
    "for i, j in enumerate(title):\n",
    "    start = data.index(j)\n",
    "    try:\n",
    "        end = data.index(title[i + 1])\n",
    "        data2.append(data[start:end])\n",
    "    except:\n",
    "        data2.append(data[start:])\n",
    "    "
   ]
  },
  {
   "cell_type": "code",
   "execution_count": 19,
   "metadata": {},
   "outputs": [
    {
     "data": {
      "text/plain": [
       "[['Labrador Retriever',\n",
       "  '#1',\n",
       "  'No',\n",
       "  '7',\n",
       "  'Price: $800 - $1500',\n",
       "  '#1',\n",
       "  'Cheerful',\n",
       "  'Gentle',\n",
       "  'Friendly',\n",
       "  'Intelligent',\n",
       "  'No',\n",
       "  '7'],\n",
       " ['German Shepherd',\n",
       "  '#2',\n",
       "  'No',\n",
       "  '3',\n",
       "  'Price: $800 - $2000',\n",
       "  '#2',\n",
       "  'Courageous',\n",
       "  'Intelligent',\n",
       "  'Loyal',\n",
       "  'Watchful',\n",
       "  'No',\n",
       "  '3']]"
      ]
     },
     "execution_count": 19,
     "metadata": {},
     "output_type": "execute_result"
    }
   ],
   "source": [
    "data2[:2]"
   ]
  },
  {
   "cell_type": "markdown",
   "metadata": {},
   "source": [
    "# Clean up dataframe"
   ]
  },
  {
   "cell_type": "code",
   "execution_count": 20,
   "metadata": {},
   "outputs": [
    {
     "data": {
      "text/html": [
       "<div>\n",
       "<style scoped>\n",
       "    .dataframe tbody tr th:only-of-type {\n",
       "        vertical-align: middle;\n",
       "    }\n",
       "\n",
       "    .dataframe tbody tr th {\n",
       "        vertical-align: top;\n",
       "    }\n",
       "\n",
       "    .dataframe thead th {\n",
       "        text-align: right;\n",
       "    }\n",
       "</style>\n",
       "<table border=\"1\" class=\"dataframe\">\n",
       "  <thead>\n",
       "    <tr style=\"text-align: right;\">\n",
       "      <th></th>\n",
       "      <th>0</th>\n",
       "      <th>1</th>\n",
       "      <th>2</th>\n",
       "      <th>3</th>\n",
       "      <th>4</th>\n",
       "      <th>5</th>\n",
       "      <th>6</th>\n",
       "      <th>7</th>\n",
       "      <th>8</th>\n",
       "      <th>9</th>\n",
       "      <th>10</th>\n",
       "      <th>11</th>\n",
       "    </tr>\n",
       "  </thead>\n",
       "  <tbody>\n",
       "    <tr>\n",
       "      <th>0</th>\n",
       "      <td>Labrador Retriever</td>\n",
       "      <td>#1</td>\n",
       "      <td>No</td>\n",
       "      <td>7</td>\n",
       "      <td>Price: $800 - $1500</td>\n",
       "      <td>#1</td>\n",
       "      <td>Cheerful</td>\n",
       "      <td>Gentle</td>\n",
       "      <td>Friendly</td>\n",
       "      <td>Intelligent</td>\n",
       "      <td>No</td>\n",
       "      <td>7</td>\n",
       "    </tr>\n",
       "    <tr>\n",
       "      <th>1</th>\n",
       "      <td>German Shepherd</td>\n",
       "      <td>#2</td>\n",
       "      <td>No</td>\n",
       "      <td>3</td>\n",
       "      <td>Price: $800 - $2000</td>\n",
       "      <td>#2</td>\n",
       "      <td>Courageous</td>\n",
       "      <td>Intelligent</td>\n",
       "      <td>Loyal</td>\n",
       "      <td>Watchful</td>\n",
       "      <td>No</td>\n",
       "      <td>3</td>\n",
       "    </tr>\n",
       "    <tr>\n",
       "      <th>2</th>\n",
       "      <td>Golden Retriever</td>\n",
       "      <td>#3</td>\n",
       "      <td>No</td>\n",
       "      <td>4</td>\n",
       "      <td>Price: $1000 - $2000</td>\n",
       "      <td>#3</td>\n",
       "      <td>Intelligent</td>\n",
       "      <td>Kind</td>\n",
       "      <td>Friendly</td>\n",
       "      <td>Confident</td>\n",
       "      <td>No</td>\n",
       "      <td>4</td>\n",
       "    </tr>\n",
       "    <tr>\n",
       "      <th>3</th>\n",
       "      <td>French Bulldog</td>\n",
       "      <td>#4</td>\n",
       "      <td>No</td>\n",
       "      <td>58</td>\n",
       "      <td>Price: $2000 - $4000</td>\n",
       "      <td>#4</td>\n",
       "      <td>Playful</td>\n",
       "      <td>Sociable</td>\n",
       "      <td>Lively</td>\n",
       "      <td>Patient</td>\n",
       "      <td>No</td>\n",
       "      <td>58</td>\n",
       "    </tr>\n",
       "    <tr>\n",
       "      <th>4</th>\n",
       "      <td>Bulldog</td>\n",
       "      <td>#5</td>\n",
       "      <td>No</td>\n",
       "      <td>77</td>\n",
       "      <td>Price: $2000 - $4000</td>\n",
       "      <td>#5</td>\n",
       "      <td>Friendly</td>\n",
       "      <td>Docile</td>\n",
       "      <td>Willful</td>\n",
       "      <td>Gregarious</td>\n",
       "      <td>No</td>\n",
       "      <td>77</td>\n",
       "    </tr>\n",
       "  </tbody>\n",
       "</table>\n",
       "</div>"
      ],
      "text/plain": [
       "                   0   1   2   3                     4   5            6   \\\n",
       "0  Labrador Retriever  #1  No   7   Price: $800 - $1500  #1     Cheerful   \n",
       "1     German Shepherd  #2  No   3   Price: $800 - $2000  #2   Courageous   \n",
       "2    Golden Retriever  #3  No   4  Price: $1000 - $2000  #3  Intelligent   \n",
       "3      French Bulldog  #4  No  58  Price: $2000 - $4000  #4      Playful   \n",
       "4             Bulldog  #5  No  77  Price: $2000 - $4000  #5     Friendly   \n",
       "\n",
       "            7         8            9   10  11  \n",
       "0       Gentle  Friendly  Intelligent  No   7  \n",
       "1  Intelligent     Loyal     Watchful  No   3  \n",
       "2         Kind  Friendly    Confident  No   4  \n",
       "3     Sociable    Lively      Patient  No  58  \n",
       "4       Docile   Willful   Gregarious  No  77  "
      ]
     },
     "execution_count": 20,
     "metadata": {},
     "output_type": "execute_result"
    }
   ],
   "source": [
    "df = pd.DataFrame(data2)\n",
    "\n",
    "df.head()"
   ]
  },
  {
   "cell_type": "code",
   "execution_count": 21,
   "metadata": {},
   "outputs": [
    {
     "data": {
      "text/plain": [
       "(100, 12)"
      ]
     },
     "execution_count": 21,
     "metadata": {},
     "output_type": "execute_result"
    }
   ],
   "source": [
    "df.shape"
   ]
  },
  {
   "cell_type": "code",
   "execution_count": 22,
   "metadata": {},
   "outputs": [
    {
     "data": {
      "text/plain": [
       "RangeIndex(start=0, stop=100, step=1)"
      ]
     },
     "execution_count": 22,
     "metadata": {},
     "output_type": "execute_result"
    }
   ],
   "source": [
    "df.index"
   ]
  },
  {
   "cell_type": "code",
   "execution_count": 23,
   "metadata": {},
   "outputs": [
    {
     "data": {
      "text/plain": [
       "RangeIndex(start=0, stop=12, step=1)"
      ]
     },
     "execution_count": 23,
     "metadata": {},
     "output_type": "execute_result"
    }
   ],
   "source": [
    "df.columns"
   ]
  },
  {
   "cell_type": "code",
   "execution_count": 24,
   "metadata": {},
   "outputs": [
    {
     "data": {
      "text/html": [
       "<div>\n",
       "<style scoped>\n",
       "    .dataframe tbody tr th:only-of-type {\n",
       "        vertical-align: middle;\n",
       "    }\n",
       "\n",
       "    .dataframe tbody tr th {\n",
       "        vertical-align: top;\n",
       "    }\n",
       "\n",
       "    .dataframe thead th {\n",
       "        text-align: right;\n",
       "    }\n",
       "</style>\n",
       "<table border=\"1\" class=\"dataframe\">\n",
       "  <thead>\n",
       "    <tr style=\"text-align: right;\">\n",
       "      <th>dog_attr</th>\n",
       "      <th>0</th>\n",
       "      <th>1</th>\n",
       "      <th>2</th>\n",
       "      <th>3</th>\n",
       "      <th>4</th>\n",
       "      <th>5</th>\n",
       "      <th>6</th>\n",
       "      <th>7</th>\n",
       "      <th>8</th>\n",
       "      <th>9</th>\n",
       "      <th>10</th>\n",
       "      <th>11</th>\n",
       "    </tr>\n",
       "    <tr>\n",
       "      <th>numbers</th>\n",
       "      <th></th>\n",
       "      <th></th>\n",
       "      <th></th>\n",
       "      <th></th>\n",
       "      <th></th>\n",
       "      <th></th>\n",
       "      <th></th>\n",
       "      <th></th>\n",
       "      <th></th>\n",
       "      <th></th>\n",
       "      <th></th>\n",
       "      <th></th>\n",
       "    </tr>\n",
       "  </thead>\n",
       "  <tbody>\n",
       "    <tr>\n",
       "      <th>0</th>\n",
       "      <td>Labrador Retriever</td>\n",
       "      <td>#1</td>\n",
       "      <td>No</td>\n",
       "      <td>7</td>\n",
       "      <td>Price: $800 - $1500</td>\n",
       "      <td>#1</td>\n",
       "      <td>Cheerful</td>\n",
       "      <td>Gentle</td>\n",
       "      <td>Friendly</td>\n",
       "      <td>Intelligent</td>\n",
       "      <td>No</td>\n",
       "      <td>7</td>\n",
       "    </tr>\n",
       "    <tr>\n",
       "      <th>1</th>\n",
       "      <td>German Shepherd</td>\n",
       "      <td>#2</td>\n",
       "      <td>No</td>\n",
       "      <td>3</td>\n",
       "      <td>Price: $800 - $2000</td>\n",
       "      <td>#2</td>\n",
       "      <td>Courageous</td>\n",
       "      <td>Intelligent</td>\n",
       "      <td>Loyal</td>\n",
       "      <td>Watchful</td>\n",
       "      <td>No</td>\n",
       "      <td>3</td>\n",
       "    </tr>\n",
       "    <tr>\n",
       "      <th>2</th>\n",
       "      <td>Golden Retriever</td>\n",
       "      <td>#3</td>\n",
       "      <td>No</td>\n",
       "      <td>4</td>\n",
       "      <td>Price: $1000 - $2000</td>\n",
       "      <td>#3</td>\n",
       "      <td>Intelligent</td>\n",
       "      <td>Kind</td>\n",
       "      <td>Friendly</td>\n",
       "      <td>Confident</td>\n",
       "      <td>No</td>\n",
       "      <td>4</td>\n",
       "    </tr>\n",
       "    <tr>\n",
       "      <th>3</th>\n",
       "      <td>French Bulldog</td>\n",
       "      <td>#4</td>\n",
       "      <td>No</td>\n",
       "      <td>58</td>\n",
       "      <td>Price: $2000 - $4000</td>\n",
       "      <td>#4</td>\n",
       "      <td>Playful</td>\n",
       "      <td>Sociable</td>\n",
       "      <td>Lively</td>\n",
       "      <td>Patient</td>\n",
       "      <td>No</td>\n",
       "      <td>58</td>\n",
       "    </tr>\n",
       "    <tr>\n",
       "      <th>4</th>\n",
       "      <td>Bulldog</td>\n",
       "      <td>#5</td>\n",
       "      <td>No</td>\n",
       "      <td>77</td>\n",
       "      <td>Price: $2000 - $4000</td>\n",
       "      <td>#5</td>\n",
       "      <td>Friendly</td>\n",
       "      <td>Docile</td>\n",
       "      <td>Willful</td>\n",
       "      <td>Gregarious</td>\n",
       "      <td>No</td>\n",
       "      <td>77</td>\n",
       "    </tr>\n",
       "  </tbody>\n",
       "</table>\n",
       "</div>"
      ],
      "text/plain": [
       "dog_attr                  0   1   2   3                     4   5   \\\n",
       "numbers                                                              \n",
       "0         Labrador Retriever  #1  No   7   Price: $800 - $1500  #1   \n",
       "1            German Shepherd  #2  No   3   Price: $800 - $2000  #2   \n",
       "2           Golden Retriever  #3  No   4  Price: $1000 - $2000  #3   \n",
       "3             French Bulldog  #4  No  58  Price: $2000 - $4000  #4   \n",
       "4                    Bulldog  #5  No  77  Price: $2000 - $4000  #5   \n",
       "\n",
       "dog_attr           6            7         8            9   10  11  \n",
       "numbers                                                            \n",
       "0            Cheerful       Gentle  Friendly  Intelligent  No   7  \n",
       "1          Courageous  Intelligent     Loyal     Watchful  No   3  \n",
       "2         Intelligent         Kind  Friendly    Confident  No   4  \n",
       "3             Playful     Sociable    Lively      Patient  No  58  \n",
       "4            Friendly       Docile   Willful   Gregarious  No  77  "
      ]
     },
     "execution_count": 24,
     "metadata": {},
     "output_type": "execute_result"
    }
   ],
   "source": [
    "df.columns.name = 'dog_attr'\n",
    "df.index.name = 'numbers'\n",
    "df.head()"
   ]
  },
  {
   "cell_type": "code",
   "execution_count": 25,
   "metadata": {},
   "outputs": [
    {
     "data": {
      "text/html": [
       "<div>\n",
       "<style scoped>\n",
       "    .dataframe tbody tr th:only-of-type {\n",
       "        vertical-align: middle;\n",
       "    }\n",
       "\n",
       "    .dataframe tbody tr th {\n",
       "        vertical-align: top;\n",
       "    }\n",
       "\n",
       "    .dataframe thead th {\n",
       "        text-align: right;\n",
       "    }\n",
       "</style>\n",
       "<table border=\"1\" class=\"dataframe\">\n",
       "  <thead>\n",
       "    <tr style=\"text-align: right;\">\n",
       "      <th>dog_attr</th>\n",
       "      <th>breed</th>\n",
       "      <th>popularity_rank</th>\n",
       "      <th>hypoallergenic</th>\n",
       "      <th>intelligence_rank</th>\n",
       "      <th>price</th>\n",
       "      <th>5</th>\n",
       "      <th>temperament1</th>\n",
       "      <th>temperament2</th>\n",
       "      <th>temperament3</th>\n",
       "      <th>temperament4</th>\n",
       "      <th>10</th>\n",
       "      <th>11</th>\n",
       "    </tr>\n",
       "    <tr>\n",
       "      <th>numbers</th>\n",
       "      <th></th>\n",
       "      <th></th>\n",
       "      <th></th>\n",
       "      <th></th>\n",
       "      <th></th>\n",
       "      <th></th>\n",
       "      <th></th>\n",
       "      <th></th>\n",
       "      <th></th>\n",
       "      <th></th>\n",
       "      <th></th>\n",
       "      <th></th>\n",
       "    </tr>\n",
       "  </thead>\n",
       "  <tbody>\n",
       "    <tr>\n",
       "      <th>0</th>\n",
       "      <td>Labrador Retriever</td>\n",
       "      <td>#1</td>\n",
       "      <td>No</td>\n",
       "      <td>7</td>\n",
       "      <td>Price: $800 - $1500</td>\n",
       "      <td>#1</td>\n",
       "      <td>Cheerful</td>\n",
       "      <td>Gentle</td>\n",
       "      <td>Friendly</td>\n",
       "      <td>Intelligent</td>\n",
       "      <td>No</td>\n",
       "      <td>7</td>\n",
       "    </tr>\n",
       "    <tr>\n",
       "      <th>1</th>\n",
       "      <td>German Shepherd</td>\n",
       "      <td>#2</td>\n",
       "      <td>No</td>\n",
       "      <td>3</td>\n",
       "      <td>Price: $800 - $2000</td>\n",
       "      <td>#2</td>\n",
       "      <td>Courageous</td>\n",
       "      <td>Intelligent</td>\n",
       "      <td>Loyal</td>\n",
       "      <td>Watchful</td>\n",
       "      <td>No</td>\n",
       "      <td>3</td>\n",
       "    </tr>\n",
       "    <tr>\n",
       "      <th>2</th>\n",
       "      <td>Golden Retriever</td>\n",
       "      <td>#3</td>\n",
       "      <td>No</td>\n",
       "      <td>4</td>\n",
       "      <td>Price: $1000 - $2000</td>\n",
       "      <td>#3</td>\n",
       "      <td>Intelligent</td>\n",
       "      <td>Kind</td>\n",
       "      <td>Friendly</td>\n",
       "      <td>Confident</td>\n",
       "      <td>No</td>\n",
       "      <td>4</td>\n",
       "    </tr>\n",
       "    <tr>\n",
       "      <th>3</th>\n",
       "      <td>French Bulldog</td>\n",
       "      <td>#4</td>\n",
       "      <td>No</td>\n",
       "      <td>58</td>\n",
       "      <td>Price: $2000 - $4000</td>\n",
       "      <td>#4</td>\n",
       "      <td>Playful</td>\n",
       "      <td>Sociable</td>\n",
       "      <td>Lively</td>\n",
       "      <td>Patient</td>\n",
       "      <td>No</td>\n",
       "      <td>58</td>\n",
       "    </tr>\n",
       "    <tr>\n",
       "      <th>4</th>\n",
       "      <td>Bulldog</td>\n",
       "      <td>#5</td>\n",
       "      <td>No</td>\n",
       "      <td>77</td>\n",
       "      <td>Price: $2000 - $4000</td>\n",
       "      <td>#5</td>\n",
       "      <td>Friendly</td>\n",
       "      <td>Docile</td>\n",
       "      <td>Willful</td>\n",
       "      <td>Gregarious</td>\n",
       "      <td>No</td>\n",
       "      <td>77</td>\n",
       "    </tr>\n",
       "  </tbody>\n",
       "</table>\n",
       "</div>"
      ],
      "text/plain": [
       "dog_attr               breed popularity_rank hypoallergenic intelligence_rank  \\\n",
       "numbers                                                                         \n",
       "0         Labrador Retriever              #1             No                 7   \n",
       "1            German Shepherd              #2             No                 3   \n",
       "2           Golden Retriever              #3             No                 4   \n",
       "3             French Bulldog              #4             No                58   \n",
       "4                    Bulldog              #5             No                77   \n",
       "\n",
       "dog_attr                 price   5 temperament1 temperament2 temperament3  \\\n",
       "numbers                                                                     \n",
       "0          Price: $800 - $1500  #1     Cheerful       Gentle     Friendly   \n",
       "1          Price: $800 - $2000  #2   Courageous  Intelligent        Loyal   \n",
       "2         Price: $1000 - $2000  #3  Intelligent         Kind     Friendly   \n",
       "3         Price: $2000 - $4000  #4      Playful     Sociable       Lively   \n",
       "4         Price: $2000 - $4000  #5     Friendly       Docile      Willful   \n",
       "\n",
       "dog_attr temperament4  10  11  \n",
       "numbers                        \n",
       "0         Intelligent  No   7  \n",
       "1            Watchful  No   3  \n",
       "2           Confident  No   4  \n",
       "3             Patient  No  58  \n",
       "4          Gregarious  No  77  "
      ]
     },
     "execution_count": 25,
     "metadata": {},
     "output_type": "execute_result"
    }
   ],
   "source": [
    "df.rename(mapper={0: 'breed'}, axis=1, inplace=True)\n",
    "df.rename(mapper={1: 'popularity_rank'}, axis=1, inplace=True)\n",
    "df.rename(mapper={2: 'hypoallergenic'}, axis=1, inplace=True)\n",
    "df.rename(mapper={3: 'intelligence_rank'}, axis=1, inplace=True)\n",
    "df.rename(mapper={4: 'price'}, axis=1, inplace=True)\n",
    "df.rename(mapper={6: 'temperament1'}, axis=1, inplace=True)\n",
    "df.rename(mapper={7: 'temperament2'}, axis=1, inplace=True)\n",
    "df.rename(mapper={8: 'temperament3'}, axis=1, inplace=True)\n",
    "df.rename(mapper={9: 'temperament4'}, axis=1, inplace=True)\n",
    "df.head()"
   ]
  },
  {
   "cell_type": "code",
   "execution_count": 26,
   "metadata": {},
   "outputs": [],
   "source": [
    "df = df.drop([5, 10, 11], axis=1)"
   ]
  },
  {
   "cell_type": "code",
   "execution_count": 27,
   "metadata": {},
   "outputs": [
    {
     "data": {
      "text/plain": [
       "(22,\n",
       " array(['Price: $800 - $1500', 'Price: $800 - $2000',\n",
       "        'Price: $1000 - $2000', 'Price: $2000 - $4000',\n",
       "        'Price: $500 - $800', 'Price: $1000 - $1500',\n",
       "        'Price: $600 - $1000', 'Price: $1200 - $2000',\n",
       "        'Price: $800 - $1200', 'Price: $1500 - $2500',\n",
       "        'Price: $800 - $1000', 'Price: $700 - $1000',\n",
       "        'Price: $1500 - $2000', 'Price: $900 - $1500',\n",
       "        'Price: $1200 - $1800', 'Price: $1200 - $1500',\n",
       "        'Price: $1400 - $5000', 'Price: $900 - $1300',\n",
       "        'Price: $800 - $1300', 'Price: $1300 - $2000',\n",
       "        'Price: $2000 - $2500', 'Price: $300 - $600'], dtype=object))"
      ]
     },
     "execution_count": 27,
     "metadata": {},
     "output_type": "execute_result"
    }
   ],
   "source": [
    "len(df['price'].unique()), df['price'].unique()"
   ]
  },
  {
   "cell_type": "code",
   "execution_count": 28,
   "metadata": {},
   "outputs": [
    {
     "data": {
      "text/plain": [
       "'0123456789-'"
      ]
     },
     "execution_count": 28,
     "metadata": {},
     "output_type": "execute_result"
    }
   ],
   "source": [
    "from string import digits\n",
    "digits += '-'\n",
    "digits"
   ]
  },
  {
   "cell_type": "code",
   "execution_count": 29,
   "metadata": {},
   "outputs": [],
   "source": [
    "def remove_puncs(string_piece):\n",
    "    if string_piece:\n",
    "        string = str(string_piece).strip()\n",
    "        clean_str = ''.join([num for num in string if num in digits])\n",
    "        return clean_str\n",
    "    else:\n",
    "        return np.nan"
   ]
  },
  {
   "cell_type": "code",
   "execution_count": 30,
   "metadata": {},
   "outputs": [
    {
     "data": {
      "text/plain": [
       "['800-1500',\n",
       " '800-2000',\n",
       " '1000-2000',\n",
       " '2000-4000',\n",
       " '2000-4000',\n",
       " '800-1500',\n",
       " '500-800',\n",
       " '1000-1500',\n",
       " '600-1000',\n",
       " '1000-2000']"
      ]
     },
     "execution_count": 30,
     "metadata": {},
     "output_type": "execute_result"
    }
   ],
   "source": [
    "clean_price_range = [remove_puncs(s) for s in df['price']]\n",
    "clean_price_range[:10]"
   ]
  },
  {
   "cell_type": "code",
   "execution_count": 31,
   "metadata": {},
   "outputs": [
    {
     "data": {
      "text/html": [
       "<div>\n",
       "<style scoped>\n",
       "    .dataframe tbody tr th:only-of-type {\n",
       "        vertical-align: middle;\n",
       "    }\n",
       "\n",
       "    .dataframe tbody tr th {\n",
       "        vertical-align: top;\n",
       "    }\n",
       "\n",
       "    .dataframe thead th {\n",
       "        text-align: right;\n",
       "    }\n",
       "</style>\n",
       "<table border=\"1\" class=\"dataframe\">\n",
       "  <thead>\n",
       "    <tr style=\"text-align: right;\">\n",
       "      <th>dog_attr</th>\n",
       "      <th>breed</th>\n",
       "      <th>popularity_rank</th>\n",
       "      <th>hypoallergenic</th>\n",
       "      <th>intelligence_rank</th>\n",
       "      <th>price</th>\n",
       "      <th>temperament1</th>\n",
       "      <th>temperament2</th>\n",
       "      <th>temperament3</th>\n",
       "      <th>temperament4</th>\n",
       "      <th>price_range</th>\n",
       "    </tr>\n",
       "    <tr>\n",
       "      <th>numbers</th>\n",
       "      <th></th>\n",
       "      <th></th>\n",
       "      <th></th>\n",
       "      <th></th>\n",
       "      <th></th>\n",
       "      <th></th>\n",
       "      <th></th>\n",
       "      <th></th>\n",
       "      <th></th>\n",
       "      <th></th>\n",
       "    </tr>\n",
       "  </thead>\n",
       "  <tbody>\n",
       "    <tr>\n",
       "      <th>0</th>\n",
       "      <td>Labrador Retriever</td>\n",
       "      <td>#1</td>\n",
       "      <td>No</td>\n",
       "      <td>7</td>\n",
       "      <td>Price: $800 - $1500</td>\n",
       "      <td>Cheerful</td>\n",
       "      <td>Gentle</td>\n",
       "      <td>Friendly</td>\n",
       "      <td>Intelligent</td>\n",
       "      <td>800-1500</td>\n",
       "    </tr>\n",
       "    <tr>\n",
       "      <th>1</th>\n",
       "      <td>German Shepherd</td>\n",
       "      <td>#2</td>\n",
       "      <td>No</td>\n",
       "      <td>3</td>\n",
       "      <td>Price: $800 - $2000</td>\n",
       "      <td>Courageous</td>\n",
       "      <td>Intelligent</td>\n",
       "      <td>Loyal</td>\n",
       "      <td>Watchful</td>\n",
       "      <td>800-2000</td>\n",
       "    </tr>\n",
       "    <tr>\n",
       "      <th>2</th>\n",
       "      <td>Golden Retriever</td>\n",
       "      <td>#3</td>\n",
       "      <td>No</td>\n",
       "      <td>4</td>\n",
       "      <td>Price: $1000 - $2000</td>\n",
       "      <td>Intelligent</td>\n",
       "      <td>Kind</td>\n",
       "      <td>Friendly</td>\n",
       "      <td>Confident</td>\n",
       "      <td>1000-2000</td>\n",
       "    </tr>\n",
       "    <tr>\n",
       "      <th>3</th>\n",
       "      <td>French Bulldog</td>\n",
       "      <td>#4</td>\n",
       "      <td>No</td>\n",
       "      <td>58</td>\n",
       "      <td>Price: $2000 - $4000</td>\n",
       "      <td>Playful</td>\n",
       "      <td>Sociable</td>\n",
       "      <td>Lively</td>\n",
       "      <td>Patient</td>\n",
       "      <td>2000-4000</td>\n",
       "    </tr>\n",
       "    <tr>\n",
       "      <th>4</th>\n",
       "      <td>Bulldog</td>\n",
       "      <td>#5</td>\n",
       "      <td>No</td>\n",
       "      <td>77</td>\n",
       "      <td>Price: $2000 - $4000</td>\n",
       "      <td>Friendly</td>\n",
       "      <td>Docile</td>\n",
       "      <td>Willful</td>\n",
       "      <td>Gregarious</td>\n",
       "      <td>2000-4000</td>\n",
       "    </tr>\n",
       "  </tbody>\n",
       "</table>\n",
       "</div>"
      ],
      "text/plain": [
       "dog_attr               breed popularity_rank hypoallergenic intelligence_rank  \\\n",
       "numbers                                                                         \n",
       "0         Labrador Retriever              #1             No                 7   \n",
       "1            German Shepherd              #2             No                 3   \n",
       "2           Golden Retriever              #3             No                 4   \n",
       "3             French Bulldog              #4             No                58   \n",
       "4                    Bulldog              #5             No                77   \n",
       "\n",
       "dog_attr                 price temperament1 temperament2 temperament3  \\\n",
       "numbers                                                                 \n",
       "0          Price: $800 - $1500     Cheerful       Gentle     Friendly   \n",
       "1          Price: $800 - $2000   Courageous  Intelligent        Loyal   \n",
       "2         Price: $1000 - $2000  Intelligent         Kind     Friendly   \n",
       "3         Price: $2000 - $4000      Playful     Sociable       Lively   \n",
       "4         Price: $2000 - $4000     Friendly       Docile      Willful   \n",
       "\n",
       "dog_attr temperament4 price_range  \n",
       "numbers                            \n",
       "0         Intelligent    800-1500  \n",
       "1            Watchful    800-2000  \n",
       "2           Confident   1000-2000  \n",
       "3             Patient   2000-4000  \n",
       "4          Gregarious   2000-4000  "
      ]
     },
     "execution_count": 31,
     "metadata": {},
     "output_type": "execute_result"
    }
   ],
   "source": [
    "df['price_range'] = clean_price_range\n",
    "df.head()"
   ]
  },
  {
   "cell_type": "code",
   "execution_count": 32,
   "metadata": {},
   "outputs": [],
   "source": [
    "del df['price']"
   ]
  },
  {
   "cell_type": "code",
   "execution_count": 33,
   "metadata": {},
   "outputs": [
    {
     "name": "stdout",
     "output_type": "stream",
     "text": [
      "Given Dataframe is :\n",
      " dog_attr               breed popularity_rank hypoallergenic intelligence_rank  \\\n",
      "numbers                                                                         \n",
      "0         Labrador Retriever              #1             No                 7   \n",
      "1            German Shepherd              #2             No                 3   \n",
      "2           Golden Retriever              #3             No                 4   \n",
      "3             French Bulldog              #4             No                58   \n",
      "4                    Bulldog              #5             No                77   \n",
      "\n",
      "dog_attr temperament1 temperament2 temperament3 temperament4 price_range  \n",
      "numbers                                                                   \n",
      "0            Cheerful       Gentle     Friendly  Intelligent    800-1500  \n",
      "1          Courageous  Intelligent        Loyal     Watchful    800-2000  \n",
      "2         Intelligent         Kind     Friendly    Confident   1000-2000  \n",
      "3             Playful     Sociable       Lively      Patient   2000-4000  \n",
      "4            Friendly       Docile      Willful   Gregarious   2000-4000  \n",
      "\n",
      "Splitting the new price_range column into two different columns :\n"
     ]
    },
    {
     "data": {
      "text/html": [
       "<div>\n",
       "<style scoped>\n",
       "    .dataframe tbody tr th:only-of-type {\n",
       "        vertical-align: middle;\n",
       "    }\n",
       "\n",
       "    .dataframe tbody tr th {\n",
       "        vertical-align: top;\n",
       "    }\n",
       "\n",
       "    .dataframe thead th {\n",
       "        text-align: right;\n",
       "    }\n",
       "</style>\n",
       "<table border=\"1\" class=\"dataframe\">\n",
       "  <thead>\n",
       "    <tr style=\"text-align: right;\">\n",
       "      <th>dog_attr</th>\n",
       "      <th>breed</th>\n",
       "      <th>popularity_rank</th>\n",
       "      <th>hypoallergenic</th>\n",
       "      <th>intelligence_rank</th>\n",
       "      <th>temperament1</th>\n",
       "      <th>temperament2</th>\n",
       "      <th>temperament3</th>\n",
       "      <th>temperament4</th>\n",
       "      <th>price_range</th>\n",
       "      <th>min_price</th>\n",
       "      <th>max_price</th>\n",
       "    </tr>\n",
       "    <tr>\n",
       "      <th>numbers</th>\n",
       "      <th></th>\n",
       "      <th></th>\n",
       "      <th></th>\n",
       "      <th></th>\n",
       "      <th></th>\n",
       "      <th></th>\n",
       "      <th></th>\n",
       "      <th></th>\n",
       "      <th></th>\n",
       "      <th></th>\n",
       "      <th></th>\n",
       "    </tr>\n",
       "  </thead>\n",
       "  <tbody>\n",
       "    <tr>\n",
       "      <th>0</th>\n",
       "      <td>Labrador Retriever</td>\n",
       "      <td>#1</td>\n",
       "      <td>No</td>\n",
       "      <td>7</td>\n",
       "      <td>Cheerful</td>\n",
       "      <td>Gentle</td>\n",
       "      <td>Friendly</td>\n",
       "      <td>Intelligent</td>\n",
       "      <td>800-1500</td>\n",
       "      <td>800</td>\n",
       "      <td>1500</td>\n",
       "    </tr>\n",
       "    <tr>\n",
       "      <th>1</th>\n",
       "      <td>German Shepherd</td>\n",
       "      <td>#2</td>\n",
       "      <td>No</td>\n",
       "      <td>3</td>\n",
       "      <td>Courageous</td>\n",
       "      <td>Intelligent</td>\n",
       "      <td>Loyal</td>\n",
       "      <td>Watchful</td>\n",
       "      <td>800-2000</td>\n",
       "      <td>800</td>\n",
       "      <td>2000</td>\n",
       "    </tr>\n",
       "    <tr>\n",
       "      <th>2</th>\n",
       "      <td>Golden Retriever</td>\n",
       "      <td>#3</td>\n",
       "      <td>No</td>\n",
       "      <td>4</td>\n",
       "      <td>Intelligent</td>\n",
       "      <td>Kind</td>\n",
       "      <td>Friendly</td>\n",
       "      <td>Confident</td>\n",
       "      <td>1000-2000</td>\n",
       "      <td>1000</td>\n",
       "      <td>2000</td>\n",
       "    </tr>\n",
       "    <tr>\n",
       "      <th>3</th>\n",
       "      <td>French Bulldog</td>\n",
       "      <td>#4</td>\n",
       "      <td>No</td>\n",
       "      <td>58</td>\n",
       "      <td>Playful</td>\n",
       "      <td>Sociable</td>\n",
       "      <td>Lively</td>\n",
       "      <td>Patient</td>\n",
       "      <td>2000-4000</td>\n",
       "      <td>2000</td>\n",
       "      <td>4000</td>\n",
       "    </tr>\n",
       "    <tr>\n",
       "      <th>4</th>\n",
       "      <td>Bulldog</td>\n",
       "      <td>#5</td>\n",
       "      <td>No</td>\n",
       "      <td>77</td>\n",
       "      <td>Friendly</td>\n",
       "      <td>Docile</td>\n",
       "      <td>Willful</td>\n",
       "      <td>Gregarious</td>\n",
       "      <td>2000-4000</td>\n",
       "      <td>2000</td>\n",
       "      <td>4000</td>\n",
       "    </tr>\n",
       "  </tbody>\n",
       "</table>\n",
       "</div>"
      ],
      "text/plain": [
       "dog_attr               breed popularity_rank hypoallergenic intelligence_rank  \\\n",
       "numbers                                                                         \n",
       "0         Labrador Retriever              #1             No                 7   \n",
       "1            German Shepherd              #2             No                 3   \n",
       "2           Golden Retriever              #3             No                 4   \n",
       "3             French Bulldog              #4             No                58   \n",
       "4                    Bulldog              #5             No                77   \n",
       "\n",
       "dog_attr temperament1 temperament2 temperament3 temperament4 price_range  \\\n",
       "numbers                                                                    \n",
       "0            Cheerful       Gentle     Friendly  Intelligent    800-1500   \n",
       "1          Courageous  Intelligent        Loyal     Watchful    800-2000   \n",
       "2         Intelligent         Kind     Friendly    Confident   1000-2000   \n",
       "3             Playful     Sociable       Lively      Patient   2000-4000   \n",
       "4            Friendly       Docile      Willful   Gregarious   2000-4000   \n",
       "\n",
       "dog_attr min_price max_price  \n",
       "numbers                       \n",
       "0              800      1500  \n",
       "1              800      2000  \n",
       "2             1000      2000  \n",
       "3             2000      4000  \n",
       "4             2000      4000  "
      ]
     },
     "execution_count": 33,
     "metadata": {},
     "output_type": "execute_result"
    }
   ],
   "source": [
    "print(\"Given Dataframe is :\\n\",df.head())\n",
    "\n",
    "print(\"\\nSplitting the new price_range column into two different columns :\") \n",
    "\n",
    "# splitting 'price_range' column into two columns  \n",
    "# i.e. 'min_price' and 'max_price'respectively and  \n",
    "# Adding these columns to the existing dataframe. \n",
    "df[['min_price','max_price']] = df.price_range.apply( \n",
    "   lambda x: pd.Series(str(x).split(\"-\"))) \n",
    "\n",
    "df.head()"
   ]
  },
  {
   "cell_type": "code",
   "execution_count": 34,
   "metadata": {},
   "outputs": [
    {
     "data": {
      "text/plain": [
       "dog_attr\n",
       "breed                object\n",
       "popularity_rank      object\n",
       "hypoallergenic       object\n",
       "intelligence_rank    object\n",
       "temperament1         object\n",
       "temperament2         object\n",
       "temperament3         object\n",
       "temperament4         object\n",
       "price_range          object\n",
       "min_price            object\n",
       "max_price            object\n",
       "dtype: object"
      ]
     },
     "execution_count": 34,
     "metadata": {},
     "output_type": "execute_result"
    }
   ],
   "source": [
    "df.dtypes"
   ]
  },
  {
   "cell_type": "code",
   "execution_count": 35,
   "metadata": {},
   "outputs": [],
   "source": [
    "df['min_price'] = df['min_price'].astype(int)\n",
    "df['max_price'] = df['max_price'].astype(int)"
   ]
  },
  {
   "cell_type": "code",
   "execution_count": 36,
   "metadata": {},
   "outputs": [],
   "source": [
    "df['avg_price'] = (df['min_price'] + df['max_price']) / 2"
   ]
  },
  {
   "cell_type": "code",
   "execution_count": 37,
   "metadata": {},
   "outputs": [],
   "source": [
    "df['avg_price'] = df['avg_price'].astype(int)"
   ]
  },
  {
   "cell_type": "code",
   "execution_count": 38,
   "metadata": {},
   "outputs": [],
   "source": [
    "df['popularity_rank'] = df['popularity_rank'].str.replace(r'\\D', '').astype(int)"
   ]
  },
  {
   "cell_type": "code",
   "execution_count": 39,
   "metadata": {},
   "outputs": [
    {
     "data": {
      "text/html": [
       "<div>\n",
       "<style scoped>\n",
       "    .dataframe tbody tr th:only-of-type {\n",
       "        vertical-align: middle;\n",
       "    }\n",
       "\n",
       "    .dataframe tbody tr th {\n",
       "        vertical-align: top;\n",
       "    }\n",
       "\n",
       "    .dataframe thead th {\n",
       "        text-align: right;\n",
       "    }\n",
       "</style>\n",
       "<table border=\"1\" class=\"dataframe\">\n",
       "  <thead>\n",
       "    <tr style=\"text-align: right;\">\n",
       "      <th></th>\n",
       "      <th>count</th>\n",
       "      <th>mean</th>\n",
       "      <th>std</th>\n",
       "      <th>min</th>\n",
       "      <th>25%</th>\n",
       "      <th>50%</th>\n",
       "      <th>75%</th>\n",
       "      <th>max</th>\n",
       "    </tr>\n",
       "    <tr>\n",
       "      <th>dog_attr</th>\n",
       "      <th></th>\n",
       "      <th></th>\n",
       "      <th></th>\n",
       "      <th></th>\n",
       "      <th></th>\n",
       "      <th></th>\n",
       "      <th></th>\n",
       "      <th></th>\n",
       "    </tr>\n",
       "  </thead>\n",
       "  <tbody>\n",
       "    <tr>\n",
       "      <th>popularity_rank</th>\n",
       "      <td>100.0</td>\n",
       "      <td>50.5</td>\n",
       "      <td>29.011492</td>\n",
       "      <td>1.0</td>\n",
       "      <td>25.75</td>\n",
       "      <td>50.5</td>\n",
       "      <td>75.25</td>\n",
       "      <td>100.0</td>\n",
       "    </tr>\n",
       "    <tr>\n",
       "      <th>min_price</th>\n",
       "      <td>100.0</td>\n",
       "      <td>1005.0</td>\n",
       "      <td>328.256798</td>\n",
       "      <td>300.0</td>\n",
       "      <td>800.00</td>\n",
       "      <td>900.0</td>\n",
       "      <td>1200.00</td>\n",
       "      <td>2000.0</td>\n",
       "    </tr>\n",
       "    <tr>\n",
       "      <th>max_price</th>\n",
       "      <td>100.0</td>\n",
       "      <td>1653.0</td>\n",
       "      <td>656.660514</td>\n",
       "      <td>600.0</td>\n",
       "      <td>1200.00</td>\n",
       "      <td>1500.0</td>\n",
       "      <td>2000.00</td>\n",
       "      <td>5000.0</td>\n",
       "    </tr>\n",
       "    <tr>\n",
       "      <th>avg_price</th>\n",
       "      <td>100.0</td>\n",
       "      <td>1329.0</td>\n",
       "      <td>473.231957</td>\n",
       "      <td>450.0</td>\n",
       "      <td>1000.00</td>\n",
       "      <td>1225.0</td>\n",
       "      <td>1600.00</td>\n",
       "      <td>3200.0</td>\n",
       "    </tr>\n",
       "  </tbody>\n",
       "</table>\n",
       "</div>"
      ],
      "text/plain": [
       "                 count    mean         std    min      25%     50%      75%  \\\n",
       "dog_attr                                                                      \n",
       "popularity_rank  100.0    50.5   29.011492    1.0    25.75    50.5    75.25   \n",
       "min_price        100.0  1005.0  328.256798  300.0   800.00   900.0  1200.00   \n",
       "max_price        100.0  1653.0  656.660514  600.0  1200.00  1500.0  2000.00   \n",
       "avg_price        100.0  1329.0  473.231957  450.0  1000.00  1225.0  1600.00   \n",
       "\n",
       "                    max  \n",
       "dog_attr                 \n",
       "popularity_rank   100.0  \n",
       "min_price        2000.0  \n",
       "max_price        5000.0  \n",
       "avg_price        3200.0  "
      ]
     },
     "execution_count": 39,
     "metadata": {},
     "output_type": "execute_result"
    }
   ],
   "source": [
    "df.describe().T"
   ]
  },
  {
   "cell_type": "code",
   "execution_count": 40,
   "metadata": {},
   "outputs": [
    {
     "data": {
      "text/html": [
       "<div>\n",
       "<style scoped>\n",
       "    .dataframe tbody tr th:only-of-type {\n",
       "        vertical-align: middle;\n",
       "    }\n",
       "\n",
       "    .dataframe tbody tr th {\n",
       "        vertical-align: top;\n",
       "    }\n",
       "\n",
       "    .dataframe thead th {\n",
       "        text-align: right;\n",
       "    }\n",
       "</style>\n",
       "<table border=\"1\" class=\"dataframe\">\n",
       "  <thead>\n",
       "    <tr style=\"text-align: right;\">\n",
       "      <th>dog_attr</th>\n",
       "      <th>breed</th>\n",
       "      <th>popularity_rank</th>\n",
       "      <th>hypoallergenic</th>\n",
       "      <th>intelligence_rank</th>\n",
       "      <th>temperament1</th>\n",
       "      <th>temperament2</th>\n",
       "      <th>temperament3</th>\n",
       "      <th>temperament4</th>\n",
       "      <th>price_range</th>\n",
       "      <th>min_price</th>\n",
       "      <th>max_price</th>\n",
       "      <th>avg_price</th>\n",
       "    </tr>\n",
       "    <tr>\n",
       "      <th>numbers</th>\n",
       "      <th></th>\n",
       "      <th></th>\n",
       "      <th></th>\n",
       "      <th></th>\n",
       "      <th></th>\n",
       "      <th></th>\n",
       "      <th></th>\n",
       "      <th></th>\n",
       "      <th></th>\n",
       "      <th></th>\n",
       "      <th></th>\n",
       "      <th></th>\n",
       "    </tr>\n",
       "  </thead>\n",
       "  <tbody>\n",
       "    <tr>\n",
       "      <th>95</th>\n",
       "      <td>Brussels Griffon</td>\n",
       "      <td>96</td>\n",
       "      <td>Yes</td>\n",
       "      <td>0</td>\n",
       "      <td>Companionable</td>\n",
       "      <td>Sensitive</td>\n",
       "      <td>Watchful</td>\n",
       "      <td>Inquisitive</td>\n",
       "      <td>1500-2000</td>\n",
       "      <td>1500</td>\n",
       "      <td>2000</td>\n",
       "      <td>1750</td>\n",
       "    </tr>\n",
       "    <tr>\n",
       "      <th>96</th>\n",
       "      <td>Standard Schnauzer</td>\n",
       "      <td>97</td>\n",
       "      <td>Yes</td>\n",
       "      <td>18</td>\n",
       "      <td>Lively</td>\n",
       "      <td>Trainable</td>\n",
       "      <td>Intelligent</td>\n",
       "      <td>Playful</td>\n",
       "      <td>1000-1500</td>\n",
       "      <td>1000</td>\n",
       "      <td>1500</td>\n",
       "      <td>1250</td>\n",
       "    </tr>\n",
       "    <tr>\n",
       "      <th>97</th>\n",
       "      <td>English Setter</td>\n",
       "      <td>98</td>\n",
       "      <td>No</td>\n",
       "      <td>37</td>\n",
       "      <td>Intelligent</td>\n",
       "      <td>Energetic</td>\n",
       "      <td>Mischievous</td>\n",
       "      <td>Strong Willed</td>\n",
       "      <td>800-1200</td>\n",
       "      <td>800</td>\n",
       "      <td>1200</td>\n",
       "      <td>1000</td>\n",
       "    </tr>\n",
       "    <tr>\n",
       "      <th>98</th>\n",
       "      <td>Wire Fox Terrier</td>\n",
       "      <td>99</td>\n",
       "      <td>Yes</td>\n",
       "      <td>51</td>\n",
       "      <td>Quick</td>\n",
       "      <td>Keen</td>\n",
       "      <td>Friendly</td>\n",
       "      <td>Fearless</td>\n",
       "      <td>1000-1500</td>\n",
       "      <td>1000</td>\n",
       "      <td>1500</td>\n",
       "      <td>1250</td>\n",
       "    </tr>\n",
       "    <tr>\n",
       "      <th>99</th>\n",
       "      <td>Neapolitan Mastiff</td>\n",
       "      <td>100</td>\n",
       "      <td>No</td>\n",
       "      <td>0</td>\n",
       "      <td>Obedient</td>\n",
       "      <td>Stubborn</td>\n",
       "      <td>Dominant</td>\n",
       "      <td>Protective</td>\n",
       "      <td>1500-2500</td>\n",
       "      <td>1500</td>\n",
       "      <td>2500</td>\n",
       "      <td>2000</td>\n",
       "    </tr>\n",
       "  </tbody>\n",
       "</table>\n",
       "</div>"
      ],
      "text/plain": [
       "dog_attr               breed  popularity_rank hypoallergenic  \\\n",
       "numbers                                                        \n",
       "95          Brussels Griffon               96            Yes   \n",
       "96        Standard Schnauzer               97            Yes   \n",
       "97            English Setter               98             No   \n",
       "98          Wire Fox Terrier               99            Yes   \n",
       "99        Neapolitan Mastiff              100             No   \n",
       "\n",
       "dog_attr intelligence_rank   temperament1 temperament2 temperament3  \\\n",
       "numbers                                                               \n",
       "95                       0  Companionable    Sensitive     Watchful   \n",
       "96                      18         Lively    Trainable  Intelligent   \n",
       "97                      37    Intelligent    Energetic  Mischievous   \n",
       "98                      51          Quick         Keen     Friendly   \n",
       "99                       0       Obedient     Stubborn     Dominant   \n",
       "\n",
       "dog_attr   temperament4 price_range  min_price  max_price  avg_price  \n",
       "numbers                                                               \n",
       "95          Inquisitive   1500-2000       1500       2000       1750  \n",
       "96              Playful   1000-1500       1000       1500       1250  \n",
       "97        Strong Willed    800-1200        800       1200       1000  \n",
       "98             Fearless   1000-1500       1000       1500       1250  \n",
       "99           Protective   1500-2500       1500       2500       2000  "
      ]
     },
     "execution_count": 40,
     "metadata": {},
     "output_type": "execute_result"
    }
   ],
   "source": [
    "# Don't forget to make intelligence_rank column into int too\n",
    "# To convert intelligence_rank column to int the misisng values represented as \"-\" must be replaced with 0:\n",
    "df['intelligence_rank'] = df['intelligence_rank'].replace('-', 0)\n",
    "df.tail()"
   ]
  },
  {
   "cell_type": "code",
   "execution_count": 41,
   "metadata": {},
   "outputs": [],
   "source": [
    "# Now the intelligence_rank column can be converted to intergers\n",
    "df['intelligence_rank'] = df['intelligence_rank'].astype(int)"
   ]
  },
  {
   "cell_type": "code",
   "execution_count": 42,
   "metadata": {},
   "outputs": [
    {
     "data": {
      "text/plain": [
       "(3, array(['No', 'Yes', '-'], dtype=object))"
      ]
     },
     "execution_count": 42,
     "metadata": {},
     "output_type": "execute_result"
    }
   ],
   "source": [
    "# Let's now have a look at the hypoallergenic column where the missing values also are represented as \"-\"\n",
    "len(df['hypoallergenic'].unique()), df['hypoallergenic'].unique()"
   ]
  },
  {
   "cell_type": "code",
   "execution_count": 43,
   "metadata": {},
   "outputs": [
    {
     "data": {
      "text/plain": [
       "(3, array(['No', 'Yes', 'Unknown'], dtype=object))"
      ]
     },
     "execution_count": 43,
     "metadata": {},
     "output_type": "execute_result"
    }
   ],
   "source": [
    "#Let's replace the missing value with \"Unknown\" since it is a categorical value \n",
    "df['hypoallergenic'] = df['hypoallergenic'].replace('-', 'Unknown')\n",
    "len(df['hypoallergenic'].unique()), df['hypoallergenic'].unique()"
   ]
  },
  {
   "cell_type": "code",
   "execution_count": 44,
   "metadata": {},
   "outputs": [
    {
     "data": {
      "text/html": [
       "<div>\n",
       "<style scoped>\n",
       "    .dataframe tbody tr th:only-of-type {\n",
       "        vertical-align: middle;\n",
       "    }\n",
       "\n",
       "    .dataframe tbody tr th {\n",
       "        vertical-align: top;\n",
       "    }\n",
       "\n",
       "    .dataframe thead th {\n",
       "        text-align: right;\n",
       "    }\n",
       "</style>\n",
       "<table border=\"1\" class=\"dataframe\">\n",
       "  <thead>\n",
       "    <tr style=\"text-align: right;\">\n",
       "      <th>dog_attr</th>\n",
       "      <th>breed</th>\n",
       "      <th>popularity_rank</th>\n",
       "      <th>hypoallergenic</th>\n",
       "      <th>intelligence_rank</th>\n",
       "      <th>temperament1</th>\n",
       "      <th>temperament2</th>\n",
       "      <th>temperament3</th>\n",
       "      <th>temperament4</th>\n",
       "      <th>price_range</th>\n",
       "      <th>min_price</th>\n",
       "      <th>max_price</th>\n",
       "      <th>avg_price</th>\n",
       "    </tr>\n",
       "    <tr>\n",
       "      <th>numbers</th>\n",
       "      <th></th>\n",
       "      <th></th>\n",
       "      <th></th>\n",
       "      <th></th>\n",
       "      <th></th>\n",
       "      <th></th>\n",
       "      <th></th>\n",
       "      <th></th>\n",
       "      <th></th>\n",
       "      <th></th>\n",
       "      <th></th>\n",
       "      <th></th>\n",
       "    </tr>\n",
       "  </thead>\n",
       "  <tbody>\n",
       "    <tr>\n",
       "      <th>28</th>\n",
       "      <td>Miniature American Shepherd</td>\n",
       "      <td>29</td>\n",
       "      <td>Unknown</td>\n",
       "      <td>0</td>\n",
       "      <td>Energetic</td>\n",
       "      <td>Intelligent</td>\n",
       "      <td>Loyal</td>\n",
       "      <td>-</td>\n",
       "      <td>800-1500</td>\n",
       "      <td>800</td>\n",
       "      <td>1500</td>\n",
       "      <td>1150</td>\n",
       "    </tr>\n",
       "  </tbody>\n",
       "</table>\n",
       "</div>"
      ],
      "text/plain": [
       "dog_attr                        breed  popularity_rank hypoallergenic  \\\n",
       "numbers                                                                 \n",
       "28        Miniature American Shepherd               29        Unknown   \n",
       "\n",
       "dog_attr  intelligence_rank temperament1 temperament2 temperament3  \\\n",
       "numbers                                                              \n",
       "28                        0    Energetic  Intelligent        Loyal   \n",
       "\n",
       "dog_attr temperament4 price_range  min_price  max_price  avg_price  \n",
       "numbers                                                             \n",
       "28                  -    800-1500        800       1500       1150  "
      ]
     },
     "execution_count": 44,
     "metadata": {},
     "output_type": "execute_result"
    }
   ],
   "source": [
    "# Let's search entire dataframe and make sure there are no more missing values from first inspection \n",
    "df[df.eq(\"-\").any(1)]"
   ]
  },
  {
   "cell_type": "code",
   "execution_count": 45,
   "metadata": {},
   "outputs": [
    {
     "data": {
      "text/html": [
       "<div>\n",
       "<style scoped>\n",
       "    .dataframe tbody tr th:only-of-type {\n",
       "        vertical-align: middle;\n",
       "    }\n",
       "\n",
       "    .dataframe tbody tr th {\n",
       "        vertical-align: top;\n",
       "    }\n",
       "\n",
       "    .dataframe thead th {\n",
       "        text-align: right;\n",
       "    }\n",
       "</style>\n",
       "<table border=\"1\" class=\"dataframe\">\n",
       "  <thead>\n",
       "    <tr style=\"text-align: right;\">\n",
       "      <th>dog_attr</th>\n",
       "      <th>breed</th>\n",
       "      <th>popularity_rank</th>\n",
       "      <th>hypoallergenic</th>\n",
       "      <th>intelligence_rank</th>\n",
       "      <th>temperament1</th>\n",
       "      <th>temperament2</th>\n",
       "      <th>temperament3</th>\n",
       "      <th>temperament4</th>\n",
       "      <th>price_range</th>\n",
       "      <th>min_price</th>\n",
       "      <th>max_price</th>\n",
       "      <th>avg_price</th>\n",
       "    </tr>\n",
       "    <tr>\n",
       "      <th>numbers</th>\n",
       "      <th></th>\n",
       "      <th></th>\n",
       "      <th></th>\n",
       "      <th></th>\n",
       "      <th></th>\n",
       "      <th></th>\n",
       "      <th></th>\n",
       "      <th></th>\n",
       "      <th></th>\n",
       "      <th></th>\n",
       "      <th></th>\n",
       "      <th></th>\n",
       "    </tr>\n",
       "  </thead>\n",
       "  <tbody>\n",
       "  </tbody>\n",
       "</table>\n",
       "</div>"
      ],
      "text/plain": [
       "Empty DataFrame\n",
       "Columns: [breed, popularity_rank, hypoallergenic, intelligence_rank, temperament1, temperament2, temperament3, temperament4, price_range, min_price, max_price, avg_price]\n",
       "Index: []"
      ]
     },
     "execution_count": 45,
     "metadata": {},
     "output_type": "execute_result"
    }
   ],
   "source": [
    "#Temperament 4 has one missing values that can be replaced with \"Unknown\" since it is a categorical value \n",
    "df['temperament4'] = df['temperament4'].replace('-', 'Unknown')\n",
    "\n",
    "#Double check for no more missing values \n",
    "df[df.eq(\"-\").any(1)]"
   ]
  },
  {
   "cell_type": "code",
   "execution_count": 46,
   "metadata": {},
   "outputs": [],
   "source": [
    "df['temperament'] = df['temperament1'] + \", \" + df['temperament2'] + \", \" + df['temperament3'] + \", \" + df['temperament4']"
   ]
  },
  {
   "cell_type": "code",
   "execution_count": 47,
   "metadata": {},
   "outputs": [
    {
     "data": {
      "text/html": [
       "<div>\n",
       "<style scoped>\n",
       "    .dataframe tbody tr th:only-of-type {\n",
       "        vertical-align: middle;\n",
       "    }\n",
       "\n",
       "    .dataframe tbody tr th {\n",
       "        vertical-align: top;\n",
       "    }\n",
       "\n",
       "    .dataframe thead th {\n",
       "        text-align: right;\n",
       "    }\n",
       "</style>\n",
       "<table border=\"1\" class=\"dataframe\">\n",
       "  <thead>\n",
       "    <tr style=\"text-align: right;\">\n",
       "      <th>dog_attr</th>\n",
       "      <th>breed</th>\n",
       "      <th>popularity_rank</th>\n",
       "      <th>hypoallergenic</th>\n",
       "      <th>intelligence_rank</th>\n",
       "      <th>temperament1</th>\n",
       "      <th>temperament2</th>\n",
       "      <th>temperament3</th>\n",
       "      <th>temperament4</th>\n",
       "      <th>price_range</th>\n",
       "      <th>min_price</th>\n",
       "      <th>max_price</th>\n",
       "      <th>avg_price</th>\n",
       "      <th>temperament</th>\n",
       "    </tr>\n",
       "    <tr>\n",
       "      <th>numbers</th>\n",
       "      <th></th>\n",
       "      <th></th>\n",
       "      <th></th>\n",
       "      <th></th>\n",
       "      <th></th>\n",
       "      <th></th>\n",
       "      <th></th>\n",
       "      <th></th>\n",
       "      <th></th>\n",
       "      <th></th>\n",
       "      <th></th>\n",
       "      <th></th>\n",
       "      <th></th>\n",
       "    </tr>\n",
       "  </thead>\n",
       "  <tbody>\n",
       "    <tr>\n",
       "      <th>0</th>\n",
       "      <td>Labrador Retriever</td>\n",
       "      <td>1</td>\n",
       "      <td>No</td>\n",
       "      <td>7</td>\n",
       "      <td>Cheerful</td>\n",
       "      <td>Gentle</td>\n",
       "      <td>Friendly</td>\n",
       "      <td>Intelligent</td>\n",
       "      <td>800-1500</td>\n",
       "      <td>800</td>\n",
       "      <td>1500</td>\n",
       "      <td>1150</td>\n",
       "      <td>Cheerful, Gentle, Friendly, Intelligent</td>\n",
       "    </tr>\n",
       "    <tr>\n",
       "      <th>1</th>\n",
       "      <td>German Shepherd</td>\n",
       "      <td>2</td>\n",
       "      <td>No</td>\n",
       "      <td>3</td>\n",
       "      <td>Courageous</td>\n",
       "      <td>Intelligent</td>\n",
       "      <td>Loyal</td>\n",
       "      <td>Watchful</td>\n",
       "      <td>800-2000</td>\n",
       "      <td>800</td>\n",
       "      <td>2000</td>\n",
       "      <td>1400</td>\n",
       "      <td>Courageous, Intelligent, Loyal, Watchful</td>\n",
       "    </tr>\n",
       "    <tr>\n",
       "      <th>2</th>\n",
       "      <td>Golden Retriever</td>\n",
       "      <td>3</td>\n",
       "      <td>No</td>\n",
       "      <td>4</td>\n",
       "      <td>Intelligent</td>\n",
       "      <td>Kind</td>\n",
       "      <td>Friendly</td>\n",
       "      <td>Confident</td>\n",
       "      <td>1000-2000</td>\n",
       "      <td>1000</td>\n",
       "      <td>2000</td>\n",
       "      <td>1500</td>\n",
       "      <td>Intelligent, Kind, Friendly, Confident</td>\n",
       "    </tr>\n",
       "    <tr>\n",
       "      <th>3</th>\n",
       "      <td>French Bulldog</td>\n",
       "      <td>4</td>\n",
       "      <td>No</td>\n",
       "      <td>58</td>\n",
       "      <td>Playful</td>\n",
       "      <td>Sociable</td>\n",
       "      <td>Lively</td>\n",
       "      <td>Patient</td>\n",
       "      <td>2000-4000</td>\n",
       "      <td>2000</td>\n",
       "      <td>4000</td>\n",
       "      <td>3000</td>\n",
       "      <td>Playful, Sociable, Lively, Patient</td>\n",
       "    </tr>\n",
       "    <tr>\n",
       "      <th>4</th>\n",
       "      <td>Bulldog</td>\n",
       "      <td>5</td>\n",
       "      <td>No</td>\n",
       "      <td>77</td>\n",
       "      <td>Friendly</td>\n",
       "      <td>Docile</td>\n",
       "      <td>Willful</td>\n",
       "      <td>Gregarious</td>\n",
       "      <td>2000-4000</td>\n",
       "      <td>2000</td>\n",
       "      <td>4000</td>\n",
       "      <td>3000</td>\n",
       "      <td>Friendly, Docile, Willful, Gregarious</td>\n",
       "    </tr>\n",
       "  </tbody>\n",
       "</table>\n",
       "</div>"
      ],
      "text/plain": [
       "dog_attr               breed  popularity_rank hypoallergenic  \\\n",
       "numbers                                                        \n",
       "0         Labrador Retriever                1             No   \n",
       "1            German Shepherd                2             No   \n",
       "2           Golden Retriever                3             No   \n",
       "3             French Bulldog                4             No   \n",
       "4                    Bulldog                5             No   \n",
       "\n",
       "dog_attr  intelligence_rank temperament1 temperament2 temperament3  \\\n",
       "numbers                                                              \n",
       "0                         7     Cheerful       Gentle     Friendly   \n",
       "1                         3   Courageous  Intelligent        Loyal   \n",
       "2                         4  Intelligent         Kind     Friendly   \n",
       "3                        58      Playful     Sociable       Lively   \n",
       "4                        77     Friendly       Docile      Willful   \n",
       "\n",
       "dog_attr temperament4 price_range  min_price  max_price  avg_price  \\\n",
       "numbers                                                              \n",
       "0         Intelligent    800-1500        800       1500       1150   \n",
       "1            Watchful    800-2000        800       2000       1400   \n",
       "2           Confident   1000-2000       1000       2000       1500   \n",
       "3             Patient   2000-4000       2000       4000       3000   \n",
       "4          Gregarious   2000-4000       2000       4000       3000   \n",
       "\n",
       "dog_attr                               temperament  \n",
       "numbers                                             \n",
       "0          Cheerful, Gentle, Friendly, Intelligent  \n",
       "1         Courageous, Intelligent, Loyal, Watchful  \n",
       "2           Intelligent, Kind, Friendly, Confident  \n",
       "3               Playful, Sociable, Lively, Patient  \n",
       "4            Friendly, Docile, Willful, Gregarious  "
      ]
     },
     "execution_count": 47,
     "metadata": {},
     "output_type": "execute_result"
    }
   ],
   "source": [
    "df.head()"
   ]
  },
  {
   "cell_type": "code",
   "execution_count": 48,
   "metadata": {},
   "outputs": [],
   "source": [
    "#Now it's ready for analysis \n",
    "\n",
    "df_ready = df.reset_index(drop=True).copy()"
   ]
  },
  {
   "cell_type": "code",
   "execution_count": 49,
   "metadata": {},
   "outputs": [],
   "source": [
    "df_ready.to_csv('../7_project/data/dog_scraped/csv_files/dog_data_scraped.csv', index=False)"
   ]
  },
  {
   "cell_type": "code",
   "execution_count": 50,
   "metadata": {},
   "outputs": [
    {
     "name": "stdout",
     "output_type": "stream",
     "text": [
      "breed,popularity_rank,hypoallergenic,intelligence_rank,temperament1,temperament2,temperament3,temperament4,price_range,min_price,max_price,avg_price,temperament\n",
      "Labrador Retriever,1,No,7,Cheerful,Gentle,Friendly,Intelligent,800-1500,800,1500,1150,\"Cheerful, Gentle, Friendly, Intelligent\"\n",
      "German Shepherd,2,No,3,Courageous,Intelligent,Loyal,Watchful,800-2000,800,2000,1400,\"Courageous, Intelligent, Loyal, Watchful\"\n",
      "Golden Retriever,3,No,4,Intelligent,Kind,Friendly,Confident,1000-2000,1000,2000,1500,\"Intelligent, Kind, Friendly, Confident\"\n",
      "French Bulldog,4,No,58,Playful,Sociable,Lively,Patient,2000-4000,2000,4000,3000,\"Playful, Sociable, Lively, Patient\"\n",
      "Bulldog,5,No,77,Friendly,Docile,Willful,Gregarious,2000-4000,2000,4000,3000,\"Friendly, Docile, Willful, Gregarious\"\n",
      "Poodle,6,Yes,2,Intelligent,Faithful,Trainable,Instinctual,800-1500,800,1500,1150,\"Intelligent, Faithful, Trainable, Instinctual\"\n",
      "Beagle,7,No,72,Gentle,Intelligent,Even Tempered,Determined,500-800,500,800,650,\"Gentle, Intelligent, Even Tempered, Determined\"\n",
      "Rottweiler,8,No,9,Intelligent,Courageous,Fearless,Confident,1000-1500,1000,1500,1250,\"Intelligent, Courageous, Fearless, Confident\"\n",
      "German Shorthaired Pointer,9,No,17,Intelligent,Trainable,Boisterous,Cooperative,600-1000,600,1000,800,\"Intelligent, Trainable, Boisterous, Cooperative\"\n"
     ]
    }
   ],
   "source": [
    "#Checking what the files looks like \n",
    "\n",
    "!head -n 10 dog_data_scraped.csv "
   ]
  }
 ],
 "metadata": {
  "kernelspec": {
   "display_name": "Python 3",
   "language": "python",
   "name": "python3"
  },
  "language_info": {
   "codemirror_mode": {
    "name": "ipython",
    "version": 3
   },
   "file_extension": ".py",
   "mimetype": "text/x-python",
   "name": "python",
   "nbconvert_exporter": "python",
   "pygments_lexer": "ipython3",
   "version": "3.7.9"
  }
 },
 "nbformat": 4,
 "nbformat_minor": 4
}
